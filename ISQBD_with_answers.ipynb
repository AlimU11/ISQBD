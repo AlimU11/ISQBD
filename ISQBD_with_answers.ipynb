{
  "cells": [
    {
      "cell_type": "markdown",
      "metadata": {
        "id": "view-in-github",
        "colab_type": "text"
      },
      "source": [
        "<a href=\"https://colab.research.google.com/github/AlimU11/ISQBD/blob/main/ISQBD_with_answers.ipynb\" target=\"_parent\"><img src=\"https://colab.research.google.com/assets/colab-badge.svg\" alt=\"Open In Colab\"/></a>"
      ]
    },
    {
      "cell_type": "markdown",
      "id": "06daa439-de8e-4cf5-8d20-39f85590a690",
      "metadata": {
        "id": "06daa439-de8e-4cf5-8d20-39f85590a690"
      },
      "source": [
        "# Python (warm-up)"
      ]
    },
    {
      "cell_type": "markdown",
      "id": "1cbe1a35-08a4-42c6-9e87-ca0e704803e2",
      "metadata": {
        "id": "1cbe1a35-08a4-42c6-9e87-ca0e704803e2"
      },
      "source": [
        "## Check if the first and last number of a list is the same"
      ]
    },
    {
      "cell_type": "code",
      "execution_count": null,
      "id": "5b603bbc-a839-49b6-aee2-fe904ede68ad",
      "metadata": {
        "id": "5b603bbc-a839-49b6-aee2-fe904ede68ad"
      },
      "outputs": [],
      "source": [
        "numbers_x = [10, 20, 30, 40, 10]\n",
        "numbers_y = [75, 65, 35, 75, 30]"
      ]
    },
    {
      "cell_type": "code",
      "execution_count": null,
      "id": "47cf92cb-bbb5-4063-9bd8-f556fb9dc5cd",
      "metadata": {
        "id": "47cf92cb-bbb5-4063-9bd8-f556fb9dc5cd",
        "outputId": "0e84db7a-40a1-4325-8e26-f33635cf97e3"
      },
      "outputs": [
        {
          "data": {
            "text/plain": [
              "True"
            ]
          },
          "execution_count": 34,
          "metadata": {},
          "output_type": "execute_result"
        }
      ],
      "source": [
        "numbers_x[0] == numbers_x[-1]"
      ]
    },
    {
      "cell_type": "code",
      "execution_count": null,
      "id": "a1009f8e-fdde-4fab-a5f8-57bd059161f6",
      "metadata": {
        "id": "a1009f8e-fdde-4fab-a5f8-57bd059161f6",
        "outputId": "2e309b19-2088-4810-e2ea-96947d033986"
      },
      "outputs": [
        {
          "data": {
            "text/plain": [
              "False"
            ]
          },
          "execution_count": 35,
          "metadata": {},
          "output_type": "execute_result"
        }
      ],
      "source": [
        "numbers_y[0] == numbers_y[-1]"
      ]
    },
    {
      "cell_type": "markdown",
      "id": "ef4329f7-c2b7-41f4-9583-c3c44e1bcd4d",
      "metadata": {
        "id": "ef4329f7-c2b7-41f4-9583-c3c44e1bcd4d"
      },
      "source": [
        "## Turn every item of a list into its square"
      ]
    },
    {
      "cell_type": "code",
      "execution_count": null,
      "id": "40f965be-5593-41e1-b938-cb3cf916e881",
      "metadata": {
        "id": "40f965be-5593-41e1-b938-cb3cf916e881"
      },
      "outputs": [],
      "source": [
        "numbers = [1, 2, 3, 4, 5, 6, 7]"
      ]
    },
    {
      "cell_type": "code",
      "execution_count": null,
      "id": "4f3ba218-aaf1-4e7e-a749-8a1fba1faf00",
      "metadata": {
        "id": "4f3ba218-aaf1-4e7e-a749-8a1fba1faf00",
        "outputId": "da3c6770-a8b1-47a6-db22-8838030340c3"
      },
      "outputs": [
        {
          "data": {
            "text/plain": [
              "[1, 4, 9, 16, 25, 36, 49]"
            ]
          },
          "execution_count": 40,
          "metadata": {},
          "output_type": "execute_result"
        }
      ],
      "source": [
        "[i**2 for i in numbers]"
      ]
    },
    {
      "cell_type": "markdown",
      "id": "3c89c945-1e52-4624-91ca-7a18b4de6965",
      "metadata": {
        "id": "3c89c945-1e52-4624-91ca-7a18b4de6965"
      },
      "source": [
        "## Extend list1 by list2"
      ]
    },
    {
      "cell_type": "code",
      "execution_count": null,
      "id": "0416b348-7098-4d1c-b191-59653b5287d0",
      "metadata": {
        "id": "0416b348-7098-4d1c-b191-59653b5287d0"
      },
      "outputs": [],
      "source": [
        "list1 = [\"A\", \"B\"]\n",
        "list2 = [\"C\", \"D\"]"
      ]
    },
    {
      "cell_type": "code",
      "execution_count": null,
      "id": "1d413fa8-6bda-48fa-ae86-74d9152dbb8a",
      "metadata": {
        "id": "1d413fa8-6bda-48fa-ae86-74d9152dbb8a",
        "outputId": "129d91f6-62e0-4394-f28f-8eb2b6ca1c73"
      },
      "outputs": [
        {
          "data": {
            "text/plain": [
              "['A', 'B', 'C', 'D']"
            ]
          },
          "execution_count": 45,
          "metadata": {},
          "output_type": "execute_result"
        }
      ],
      "source": [
        "list1.extend(list2)\n",
        "list1"
      ]
    },
    {
      "cell_type": "markdown",
      "id": "e23c5a69-23c4-4ab5-8fd7-e455c9d83f40",
      "metadata": {
        "id": "e23c5a69-23c4-4ab5-8fd7-e455c9d83f40"
      },
      "source": [
        "## Get Only unique items from two sets"
      ]
    },
    {
      "cell_type": "code",
      "execution_count": null,
      "id": "949a1e64-99a4-42f6-ad14-70d98445aefe",
      "metadata": {
        "id": "949a1e64-99a4-42f6-ad14-70d98445aefe"
      },
      "outputs": [],
      "source": [
        "set1 = {10, 20, 30, 40, 50}\n",
        "set2 = {30, 40, 50, 60, 70}"
      ]
    },
    {
      "cell_type": "code",
      "execution_count": null,
      "id": "13336cb4-8fad-4a52-80c0-092c31a1ff3f",
      "metadata": {
        "id": "13336cb4-8fad-4a52-80c0-092c31a1ff3f",
        "outputId": "4ec03037-3f23-4e77-dc53-9d1d350f6ca3"
      },
      "outputs": [
        {
          "data": {
            "text/plain": [
              "{10, 20, 30, 40, 50, 60, 70}"
            ]
          },
          "execution_count": 47,
          "metadata": {},
          "output_type": "execute_result"
        }
      ],
      "source": [
        "set1.union(set2)"
      ]
    },
    {
      "cell_type": "markdown",
      "id": "b1809f2d-f117-4894-90a7-2f8ce8ada1e2",
      "metadata": {
        "id": "b1809f2d-f117-4894-90a7-2f8ce8ada1e2"
      },
      "source": [
        "## Return a set of elements present in Set A or B, but not both"
      ]
    },
    {
      "cell_type": "code",
      "execution_count": null,
      "id": "5abc091c-54ba-4637-abee-161d3e7d5557",
      "metadata": {
        "id": "5abc091c-54ba-4637-abee-161d3e7d5557"
      },
      "outputs": [],
      "source": [
        "set1 = {10, 20, 30, 40, 50}\n",
        "set2 = {30, 40, 50, 60, 70}"
      ]
    },
    {
      "cell_type": "code",
      "execution_count": null,
      "id": "5c8d45de-e4a3-446c-acd0-d2868e2396a9",
      "metadata": {
        "id": "5c8d45de-e4a3-446c-acd0-d2868e2396a9",
        "outputId": "ca25e45a-7e06-402d-c139-af71a876a7df"
      },
      "outputs": [
        {
          "data": {
            "text/plain": [
              "{10, 20, 60, 70}"
            ]
          },
          "execution_count": 49,
          "metadata": {},
          "output_type": "execute_result"
        }
      ],
      "source": [
        "set1.symmetric_difference(set2)"
      ]
    },
    {
      "cell_type": "markdown",
      "id": "1787d9c4-7bb4-446d-9b35-617afec93d83",
      "metadata": {
        "id": "1787d9c4-7bb4-446d-9b35-617afec93d83"
      },
      "source": [
        "## Create a Passive class without any variables and methods "
      ]
    },
    {
      "cell_type": "code",
      "execution_count": null,
      "id": "fa408650-36d5-409e-857f-737dfacaa630",
      "metadata": {
        "id": "fa408650-36d5-409e-857f-737dfacaa630"
      },
      "outputs": [],
      "source": [
        "class Passive:\n",
        "    pass"
      ]
    },
    {
      "cell_type": "markdown",
      "id": "77b19898-b3f5-465b-8b41-0262e2313bcf",
      "metadata": {
        "id": "77b19898-b3f5-465b-8b41-0262e2313bcf"
      },
      "source": [
        "# CRISP-DM "
      ]
    },
    {
      "cell_type": "code",
      "execution_count": null,
      "id": "f2f854e3-1cbe-46c5-af8b-b991f387af45",
      "metadata": {
        "id": "f2f854e3-1cbe-46c5-af8b-b991f387af45"
      },
      "outputs": [],
      "source": [
        "import pandas as pd\n",
        "import sqlite3\n",
        "import matplotlib.pyplot as plt\n",
        "import numpy as np"
      ]
    },
    {
      "cell_type": "markdown",
      "id": "836b9827-8dd9-4373-8ff1-11dd7d9a1dc9",
      "metadata": {
        "id": "836b9827-8dd9-4373-8ff1-11dd7d9a1dc9"
      },
      "source": [
        "# Data Mining "
      ]
    },
    {
      "cell_type": "code",
      "execution_count": null,
      "id": "e2ae94f9-f8fb-4ac5-ad6a-dcaea702c65b",
      "metadata": {
        "id": "e2ae94f9-f8fb-4ac5-ad6a-dcaea702c65b",
        "outputId": "8aa188e4-4090-4165-b890-813def9f0a5e"
      },
      "outputs": [
        {
          "data": {
            "text/plain": [
              "('customers_data.db', <http.client.HTTPMessage at 0x2cd1bfc64c0>)"
            ]
          },
          "execution_count": 2,
          "metadata": {},
          "output_type": "execute_result"
        }
      ],
      "source": [
        "import urllib\n",
        "\n",
        "file = urllib.request\n",
        "file.urlretrieve('https://github.com/AlimU11/ISQBD/blob/main/customers_data.db?raw=true', 'customers_data.db')"
      ]
    },
    {
      "cell_type": "markdown",
      "id": "10005927-8d4c-4dca-bf9b-0e7cb954c9b2",
      "metadata": {
        "id": "10005927-8d4c-4dca-bf9b-0e7cb954c9b2"
      },
      "source": [
        "## Fetch data from customer_data.db to variable df as DataFrame"
      ]
    },
    {
      "cell_type": "code",
      "execution_count": null,
      "id": "0e5855f5-c12b-4495-b8d4-251143d5e0f2",
      "metadata": {
        "id": "0e5855f5-c12b-4495-b8d4-251143d5e0f2"
      },
      "outputs": [],
      "source": [
        "conn = sqlite3.connect('customers_data.db')\n",
        "c = conn.cursor()\n",
        "\n",
        "c.execute('select * from customer_churn')\n",
        "\n",
        "df = pd.DataFrame(c.fetchall(), columns=list(map(lambda x: x[0], c.description)))\n",
        "\n",
        "conn.close()"
      ]
    },
    {
      "cell_type": "markdown",
      "id": "1d535ae7-eb32-4dc7-b811-d185c2ba8edd",
      "metadata": {
        "id": "1d535ae7-eb32-4dc7-b811-d185c2ba8edd"
      },
      "source": [
        "# Data Understanding"
      ]
    },
    {
      "cell_type": "markdown",
      "id": "06cca0c4-2af7-4603-829e-2e5cbc49e72a",
      "metadata": {
        "id": "06cca0c4-2af7-4603-829e-2e5cbc49e72a"
      },
      "source": [
        "## Show basic info about data"
      ]
    },
    {
      "cell_type": "code",
      "execution_count": null,
      "id": "8305df77-7f63-4ace-b93c-b85029ff258e",
      "metadata": {
        "id": "8305df77-7f63-4ace-b93c-b85029ff258e",
        "outputId": "0e6b8d5c-00a0-48ba-a124-c7b06226c79f"
      },
      "outputs": [
        {
          "name": "stdout",
          "output_type": "stream",
          "text": [
            "<class 'pandas.core.frame.DataFrame'>\n",
            "RangeIndex: 7043 entries, 0 to 7042\n",
            "Data columns (total 21 columns):\n",
            " #   Column            Non-Null Count  Dtype  \n",
            "---  ------            --------------  -----  \n",
            " 0   customerID        7043 non-null   object \n",
            " 1   gender            7043 non-null   object \n",
            " 2   SeniorCitizen     7043 non-null   int64  \n",
            " 3   Partner           7043 non-null   object \n",
            " 4   Dependents        7043 non-null   object \n",
            " 5   tenure            7043 non-null   int64  \n",
            " 6   PhoneService      7043 non-null   object \n",
            " 7   MultipleLines     7043 non-null   object \n",
            " 8   InternetService   7043 non-null   object \n",
            " 9   OnlineSecurity    7043 non-null   object \n",
            " 10  OnlineBackup      7043 non-null   object \n",
            " 11  DeviceProtection  7043 non-null   object \n",
            " 12  TechSupport       7043 non-null   object \n",
            " 13  StreamingTV       7043 non-null   object \n",
            " 14  StreamingMovies   7043 non-null   object \n",
            " 15  Contract          7043 non-null   object \n",
            " 16  PaperlessBilling  7043 non-null   object \n",
            " 17  PaymentMethod     7043 non-null   object \n",
            " 18  MonthlyCharges    7043 non-null   float64\n",
            " 19  TotalCharges      7043 non-null   object \n",
            " 20  Churn             7043 non-null   object \n",
            "dtypes: float64(1), int64(2), object(18)\n",
            "memory usage: 1.1+ MB\n"
          ]
        }
      ],
      "source": [
        "df.info()"
      ]
    },
    {
      "cell_type": "code",
      "execution_count": null,
      "id": "51f9df4c-ed4e-4fdb-a274-eb064d7c2792",
      "metadata": {
        "id": "51f9df4c-ed4e-4fdb-a274-eb064d7c2792",
        "outputId": "38839735-78dd-4779-9b24-46c89a1659c7"
      },
      "outputs": [
        {
          "data": {
            "text/html": [
              "<div>\n",
              "<style scoped>\n",
              "    .dataframe tbody tr th:only-of-type {\n",
              "        vertical-align: middle;\n",
              "    }\n",
              "\n",
              "    .dataframe tbody tr th {\n",
              "        vertical-align: top;\n",
              "    }\n",
              "\n",
              "    .dataframe thead th {\n",
              "        text-align: right;\n",
              "    }\n",
              "</style>\n",
              "<table border=\"1\" class=\"dataframe\">\n",
              "  <thead>\n",
              "    <tr style=\"text-align: right;\">\n",
              "      <th></th>\n",
              "      <th>SeniorCitizen</th>\n",
              "      <th>tenure</th>\n",
              "      <th>MonthlyCharges</th>\n",
              "    </tr>\n",
              "  </thead>\n",
              "  <tbody>\n",
              "    <tr>\n",
              "      <th>count</th>\n",
              "      <td>7043.000000</td>\n",
              "      <td>7043.000000</td>\n",
              "      <td>7043.000000</td>\n",
              "    </tr>\n",
              "    <tr>\n",
              "      <th>mean</th>\n",
              "      <td>0.162147</td>\n",
              "      <td>32.371149</td>\n",
              "      <td>64.761692</td>\n",
              "    </tr>\n",
              "    <tr>\n",
              "      <th>std</th>\n",
              "      <td>0.368612</td>\n",
              "      <td>24.559481</td>\n",
              "      <td>30.090047</td>\n",
              "    </tr>\n",
              "    <tr>\n",
              "      <th>min</th>\n",
              "      <td>0.000000</td>\n",
              "      <td>0.000000</td>\n",
              "      <td>18.250000</td>\n",
              "    </tr>\n",
              "    <tr>\n",
              "      <th>25%</th>\n",
              "      <td>0.000000</td>\n",
              "      <td>9.000000</td>\n",
              "      <td>35.500000</td>\n",
              "    </tr>\n",
              "    <tr>\n",
              "      <th>50%</th>\n",
              "      <td>0.000000</td>\n",
              "      <td>29.000000</td>\n",
              "      <td>70.350000</td>\n",
              "    </tr>\n",
              "    <tr>\n",
              "      <th>75%</th>\n",
              "      <td>0.000000</td>\n",
              "      <td>55.000000</td>\n",
              "      <td>89.850000</td>\n",
              "    </tr>\n",
              "    <tr>\n",
              "      <th>max</th>\n",
              "      <td>1.000000</td>\n",
              "      <td>72.000000</td>\n",
              "      <td>118.750000</td>\n",
              "    </tr>\n",
              "  </tbody>\n",
              "</table>\n",
              "</div>"
            ],
            "text/plain": [
              "       SeniorCitizen       tenure  MonthlyCharges\n",
              "count    7043.000000  7043.000000     7043.000000\n",
              "mean        0.162147    32.371149       64.761692\n",
              "std         0.368612    24.559481       30.090047\n",
              "min         0.000000     0.000000       18.250000\n",
              "25%         0.000000     9.000000       35.500000\n",
              "50%         0.000000    29.000000       70.350000\n",
              "75%         0.000000    55.000000       89.850000\n",
              "max         1.000000    72.000000      118.750000"
            ]
          },
          "execution_count": 5,
          "metadata": {},
          "output_type": "execute_result"
        }
      ],
      "source": [
        "df.describe()"
      ]
    },
    {
      "cell_type": "markdown",
      "id": "9cfd83c3-147d-4aea-a549-ea41c817d9bf",
      "metadata": {
        "id": "9cfd83c3-147d-4aea-a549-ea41c817d9bf"
      },
      "source": [
        "## Transform TotalCharges to numeric"
      ]
    },
    {
      "cell_type": "code",
      "execution_count": null,
      "id": "10ef2645-e1fb-47d5-b248-fdef9e671f23",
      "metadata": {
        "id": "10ef2645-e1fb-47d5-b248-fdef9e671f23"
      },
      "outputs": [],
      "source": [
        "df.TotalCharges = pd.to_numeric(arg=df.TotalCharges, errors='coerce')"
      ]
    },
    {
      "cell_type": "markdown",
      "id": "38d7adf5-1f48-41cf-a7cc-4aad650418e7",
      "metadata": {
        "id": "38d7adf5-1f48-41cf-a7cc-4aad650418e7"
      },
      "source": [
        "## Check NA values"
      ]
    },
    {
      "cell_type": "code",
      "execution_count": null,
      "id": "03d8efa3-c578-4fc9-aa3f-f16fda2fb8ec",
      "metadata": {
        "id": "03d8efa3-c578-4fc9-aa3f-f16fda2fb8ec",
        "outputId": "c0e558ff-aeb9-49cd-e553-256c8fa1c624"
      },
      "outputs": [
        {
          "data": {
            "text/plain": [
              "True"
            ]
          },
          "execution_count": 7,
          "metadata": {},
          "output_type": "execute_result"
        }
      ],
      "source": [
        "np.any(df.isnull())"
      ]
    },
    {
      "cell_type": "code",
      "execution_count": null,
      "id": "73213bab-85d3-4d5e-8213-cfce6c9f4597",
      "metadata": {
        "id": "73213bab-85d3-4d5e-8213-cfce6c9f4597",
        "outputId": "6a59ef32-698d-469c-c7a7-1b6216fc5e0b"
      },
      "outputs": [
        {
          "data": {
            "text/plain": [
              "customerID           0\n",
              "gender               0\n",
              "SeniorCitizen        0\n",
              "Partner              0\n",
              "Dependents           0\n",
              "tenure               0\n",
              "PhoneService         0\n",
              "MultipleLines        0\n",
              "InternetService      0\n",
              "OnlineSecurity       0\n",
              "OnlineBackup         0\n",
              "DeviceProtection     0\n",
              "TechSupport          0\n",
              "StreamingTV          0\n",
              "StreamingMovies      0\n",
              "Contract             0\n",
              "PaperlessBilling     0\n",
              "PaymentMethod        0\n",
              "MonthlyCharges       0\n",
              "TotalCharges        11\n",
              "Churn                0\n",
              "dtype: int64"
            ]
          },
          "execution_count": 8,
          "metadata": {},
          "output_type": "execute_result"
        }
      ],
      "source": [
        "df.isnull().sum()"
      ]
    },
    {
      "cell_type": "markdown",
      "id": "cc57b3b1-6b92-43c7-99da-6c08ccda64be",
      "metadata": {
        "id": "cc57b3b1-6b92-43c7-99da-6c08ccda64be"
      },
      "source": [
        "## Drop all NA values"
      ]
    },
    {
      "cell_type": "code",
      "execution_count": null,
      "id": "e37a5860-21a3-422c-914c-3c27aa8a9ee8",
      "metadata": {
        "id": "e37a5860-21a3-422c-914c-3c27aa8a9ee8"
      },
      "outputs": [],
      "source": [
        "df.dropna(inplace=True)"
      ]
    },
    {
      "cell_type": "markdown",
      "id": "deb8005a-4aac-4cd3-bcc8-969140b74e86",
      "metadata": {
        "id": "deb8005a-4aac-4cd3-bcc8-969140b74e86"
      },
      "source": [
        "## Create df1 from df without customerID"
      ]
    },
    {
      "cell_type": "code",
      "execution_count": null,
      "id": "23e70240-11e5-4ba8-a1ee-da06963bccfd",
      "metadata": {
        "id": "23e70240-11e5-4ba8-a1ee-da06963bccfd"
      },
      "outputs": [],
      "source": [
        "df1 = df.iloc[:, 1:]"
      ]
    },
    {
      "cell_type": "markdown",
      "id": "b9b5a272-f055-4c83-a5ea-d2766c991c4f",
      "metadata": {
        "id": "b9b5a272-f055-4c83-a5ea-d2766c991c4f"
      },
      "source": [
        "## Convert Churn column to binary numeric variable"
      ]
    },
    {
      "cell_type": "code",
      "execution_count": null,
      "id": "2f1d4229-cebf-4cea-aaca-f7a6725a07ae",
      "metadata": {
        "id": "2f1d4229-cebf-4cea-aaca-f7a6725a07ae"
      },
      "outputs": [],
      "source": [
        "df1['Churn'].replace({'Yes': 1, 'No': 0}, inplace=True)"
      ]
    },
    {
      "cell_type": "markdown",
      "id": "8c798586-e5ad-4338-9ba5-918d63b77467",
      "metadata": {
        "id": "8c798586-e5ad-4338-9ba5-918d63b77467"
      },
      "source": [
        "## Convert other non-numeric columns to dummies\n",
        "## Assign result to variable df2"
      ]
    },
    {
      "cell_type": "code",
      "execution_count": null,
      "id": "8cc5440c-5776-4c6f-a54a-2f0aaca42fad",
      "metadata": {
        "id": "8cc5440c-5776-4c6f-a54a-2f0aaca42fad"
      },
      "outputs": [],
      "source": [
        "df2 = pd.get_dummies(df1)"
      ]
    },
    {
      "cell_type": "markdown",
      "id": "7c7055db-1517-41ae-99e0-e471a7bc57c1",
      "metadata": {
        "id": "7c7055db-1517-41ae-99e0-e471a7bc57c1"
      },
      "source": [
        "## Get columns correlation \n",
        "## (Optional) plot correlation for Churn column"
      ]
    },
    {
      "cell_type": "code",
      "execution_count": null,
      "id": "1c035880-886b-4450-9ec2-c06c623ad8c4",
      "metadata": {
        "id": "1c035880-886b-4450-9ec2-c06c623ad8c4",
        "outputId": "a2e4f654-dadf-40cc-bd52-f1283f7ce055"
      },
      "outputs": [
        {
          "data": {
            "image/png": "[encoded data removed]",
            "text/plain": [
              "<Figure size 1728x864 with 1 Axes>"
            ]
          },
          "metadata": {
            "needs_background": "light"
          },
          "output_type": "display_data"
        }
      ],
      "source": [
        "plt.figure(figsize=(24, 12))\n",
        "df2.corr().Churn.sort_values().plot(kind='bar')\n",
        "#plt.bar(df2.corr().Churn.sort_values().index, df2.corr().Churn.sort_values().values)\n",
        "plt.xticks(rotation=45, horizontalalignment='right')\n",
        "plt.show()"
      ]
    },
    {
      "cell_type": "markdown",
      "id": "89f1be24-5c66-4f59-b0e7-2f730dcbfa02",
      "metadata": {
        "id": "89f1be24-5c66-4f59-b0e7-2f730dcbfa02"
      },
      "source": [
        "## Plot value counts of Contract as bar chart "
      ]
    },
    {
      "cell_type": "code",
      "execution_count": null,
      "id": "4f020245-3627-43a5-805b-01305c11ff98",
      "metadata": {
        "id": "4f020245-3627-43a5-805b-01305c11ff98",
        "outputId": "66839943-de44-44fd-9dfa-12ee9162ff9d"
      },
      "outputs": [
        {
          "data": {
            "image/png": "[encoded data removed]",
            "text/plain": [
              "<Figure size 1152x576 with 1 Axes>"
            ]
          },
          "metadata": {
            "needs_background": "light"
          },
          "output_type": "display_data"
        }
      ],
      "source": [
        "plt.figure(figsize=(16,8))\n",
        "df1.Contract.value_counts().plot(kind = 'bar', rot=0)\n",
        "plt.title('Contract type distribution')\n",
        "plt.show()"
      ]
    },
    {
      "cell_type": "markdown",
      "id": "b038e2e5-94a1-43b6-b904-822ab0cee8ec",
      "metadata": {
        "id": "b038e2e5-94a1-43b6-b904-822ab0cee8ec"
      },
      "source": [
        "## Plot distribution of customers by their tenure"
      ]
    },
    {
      "cell_type": "code",
      "execution_count": null,
      "id": "e2b934fa-ca66-4de2-98ea-a52e58981a9d",
      "metadata": {
        "id": "e2b934fa-ca66-4de2-98ea-a52e58981a9d",
        "outputId": "6a719ffe-f575-4411-e73e-3dbe03fb046d"
      },
      "outputs": [
        {
          "data": {
            "image/png": "[encoded data removed]",
            "text/plain": [
              "<Figure size 1152x576 with 1 Axes>"
            ]
          },
          "metadata": {
            "needs_background": "light"
          },
          "output_type": "display_data"
        }
      ],
      "source": [
        "plt.figure(figsize=(16,8))\n",
        "plt.title('Distribution of customers by tenure')\n",
        "plt.xlabel('Tenure')\n",
        "df1.tenure.plot(kind='hist', rwidth=0.95)\n",
        "plt.show()"
      ]
    },
    {
      "cell_type": "markdown",
      "id": "aeebacee-4b95-45cf-b930-7ac8a85b9a0b",
      "metadata": {
        "id": "aeebacee-4b95-45cf-b930-7ac8a85b9a0b"
      },
      "source": [
        "# Data Preparation"
      ]
    },
    {
      "cell_type": "markdown",
      "id": "e8a1923d-d29f-4d42-9c5a-c843b14e20e8",
      "metadata": {
        "id": "e8a1923d-d29f-4d42-9c5a-c843b14e20e8"
      },
      "source": [
        "## Define X as all column from df2 except Churn column\n",
        "## Define y as Churn column from df2"
      ]
    },
    {
      "cell_type": "code",
      "execution_count": null,
      "id": "c6150d39-66d9-4d64-8e3c-0e78ea91de69",
      "metadata": {
        "id": "c6150d39-66d9-4d64-8e3c-0e78ea91de69"
      },
      "outputs": [],
      "source": [
        "X = df2.drop(columns = ['Churn'])\n",
        "y = df2['Churn']"
      ]
    },
    {
      "cell_type": "markdown",
      "id": "81e56e73-86d2-4372-91cf-0224539f8230",
      "metadata": {
        "id": "81e56e73-86d2-4372-91cf-0224539f8230"
      },
      "source": [
        "## Scale X using MinMaxScaler or <a href='https://scikit-learn.org/stable/modules/classes.html#module-sklearn.preprocessing'> any other</a> of your choice"
      ]
    },
    {
      "cell_type": "code",
      "execution_count": null,
      "id": "44066710-1da7-41f7-b66a-615efdca8554",
      "metadata": {
        "id": "44066710-1da7-41f7-b66a-615efdca8554"
      },
      "outputs": [],
      "source": [
        "from sklearn.preprocessing import MinMaxScaler\n",
        "\n",
        "scaler = MinMaxScaler()\n",
        "scaler.fit(X)\n",
        "X_scaled = scaler.transform(X)"
      ]
    },
    {
      "cell_type": "markdown",
      "id": "f4482102-712c-451d-9d7b-2afafe08ddd8",
      "metadata": {
        "id": "f4482102-712c-451d-9d7b-2afafe08ddd8"
      },
      "source": [
        "## Split X_scaled and y to train and test"
      ]
    },
    {
      "cell_type": "code",
      "execution_count": null,
      "id": "2216fd46-5298-49aa-bf93-ddce69250796",
      "metadata": {
        "id": "2216fd46-5298-49aa-bf93-ddce69250796"
      },
      "outputs": [],
      "source": [
        "from sklearn.model_selection import train_test_split\n",
        "\n",
        "X_train, X_test, y_train, y_test = train_test_split(X_scaled, y, random_state=42)"
      ]
    },
    {
      "cell_type": "markdown",
      "id": "8eb3ce29-9657-43a3-8636-a17c28c5b736",
      "metadata": {
        "id": "8eb3ce29-9657-43a3-8636-a17c28c5b736"
      },
      "source": [
        "# Modeling"
      ]
    },
    {
      "cell_type": "markdown",
      "id": "1d7e00e0-7a91-42ae-97b1-7c9d92ae6e27",
      "metadata": {
        "id": "1d7e00e0-7a91-42ae-97b1-7c9d92ae6e27"
      },
      "source": [
        "## Create LogisticRegression model\n",
        "## use parameters solver='liblinear' and class_weight={0:1,1:2} inside constructor\n",
        "## fit model using X_train, y_train"
      ]
    },
    {
      "cell_type": "code",
      "execution_count": null,
      "id": "8d9b0b8a-e947-4669-aa11-7b6425710d28",
      "metadata": {
        "id": "8d9b0b8a-e947-4669-aa11-7b6425710d28",
        "outputId": "697beb29-be0d-4f0e-eff7-c78f4d9d5c98"
      },
      "outputs": [
        {
          "data": {
            "text/plain": [
              "LogisticRegression(class_weight={0: 1, 1: 2}, solver='liblinear')"
            ]
          },
          "execution_count": 19,
          "metadata": {},
          "output_type": "execute_result"
        }
      ],
      "source": [
        "from sklearn.linear_model import LogisticRegression\n",
        "\n",
        "lr = LogisticRegression(solver='liblinear', class_weight={0:1,1:2})\n",
        "lr.fit(X_train, y_train)"
      ]
    },
    {
      "cell_type": "markdown",
      "id": "3bd2bcef-0acd-4048-bdf4-7b00c1208246",
      "metadata": {
        "id": "3bd2bcef-0acd-4048-bdf4-7b00c1208246"
      },
      "source": [
        "## Random Forest"
      ]
    },
    {
      "cell_type": "markdown",
      "id": "a6aba596-f6ce-40ff-b3f5-c85ad635272b",
      "metadata": {
        "id": "a6aba596-f6ce-40ff-b3f5-c85ad635272b"
      },
      "source": [
        "# Create <a href=\"https://scikit-learn.org/stable/modules/generated/sklearn.ensemble.RandomForestClassifier.html#sklearn-ensemble-randomforestclassifier\"> random forest classifier </a> model\n",
        "\n",
        "## Use following parameters inside constructor\n",
        "### n_estimators=1000\n",
        "### oob_score = True\n",
        "### n_jobs = -1\n",
        "### random_state=50\n",
        "### max_features = \"auto\"\n",
        "### max_leaf_nodes=30\n",
        "### class_weight={0:1,1:2}\n",
        "\n",
        "# fit model with X_train and y_train"
      ]
    },
    {
      "cell_type": "code",
      "execution_count": null,
      "id": "c25e5ba7-6e34-4c0f-8ace-6090a8d713e8",
      "metadata": {
        "id": "c25e5ba7-6e34-4c0f-8ace-6090a8d713e8",
        "outputId": "97aa18b3-1606-4828-9390-5caa021c72bc"
      },
      "outputs": [
        {
          "data": {
            "text/plain": [
              "RandomForestClassifier(class_weight={0: 1, 1: 2}, max_leaf_nodes=30,\n",
              "                       n_estimators=1000, n_jobs=-1, oob_score=True,\n",
              "                       random_state=50)"
            ]
          },
          "execution_count": 20,
          "metadata": {},
          "output_type": "execute_result"
        }
      ],
      "source": [
        "from sklearn.ensemble import RandomForestClassifier\n",
        "\n",
        "rf = RandomForestClassifier(\n",
        "n_estimators=1000,\n",
        "oob_score = True,\n",
        "n_jobs = -1,\n",
        "random_state=50,\n",
        "max_features = \"auto\",\n",
        "max_leaf_nodes=30,\n",
        "class_weight={0:1,1:2},\n",
        ")\n",
        "rf.fit(X_train, y_train)"
      ]
    },
    {
      "cell_type": "markdown",
      "id": "0f032fc8-fa36-4f84-85c8-120911a95e0d",
      "metadata": {
        "id": "0f032fc8-fa36-4f84-85c8-120911a95e0d"
      },
      "source": [
        "## XGBoost"
      ]
    },
    {
      "cell_type": "markdown",
      "id": "56d60dbd-843b-45f5-a196-4cc1a28849a7",
      "metadata": {
        "id": "56d60dbd-843b-45f5-a196-4cc1a28849a7"
      },
      "source": [
        "## Create XGBClassifier model named xgb_cl from xgboost model\n",
        "## Use parameter \n",
        "## use_label_encoder=False\n",
        "## for constructor\n",
        "## Fit model with X_train, y_train\n",
        "## Use sample_weight=w_array inside fit function"
      ]
    },
    {
      "cell_type": "code",
      "execution_count": null,
      "id": "66a5cac4-6da2-4526-8980-ecdf0845deea",
      "metadata": {
        "id": "66a5cac4-6da2-4526-8980-ecdf0845deea"
      },
      "outputs": [],
      "source": [
        "w_array = np.array([1]*y_train.shape[0], dtype=float)\n",
        "w_array[y_train==1] = 0.90\n",
        "w_array[y_train==0] = 0.10"
      ]
    },
    {
      "cell_type": "code",
      "execution_count": null,
      "id": "06e3d572-7322-4444-bba9-1f70613d8715",
      "metadata": {
        "id": "06e3d572-7322-4444-bba9-1f70613d8715",
        "outputId": "178d1f40-d414-46c1-a3ab-191b11a54d5d"
      },
      "outputs": [
        {
          "name": "stderr",
          "output_type": "stream",
          "text": [
            "C:\\Users\\alimu\\AppData\\Roaming\\Python\\Python39\\site-packages\\xgboost\\compat.py:36: FutureWarning: pandas.Int64Index is deprecated and will be removed from pandas in a future version. Use pandas.Index with the appropriate dtype instead.\n",
            "  from pandas import MultiIndex, Int64Index\n"
          ]
        },
        {
          "name": "stdout",
          "output_type": "stream",
          "text": [
            "[23:09:24] WARNING: C:/Users/Administrator/workspace/xgboost-win64_release_1.5.1/src/learner.cc:1115: Starting in XGBoost 1.3.0, the default evaluation metric used with the objective 'binary:logistic' was changed from 'error' to 'logloss'. Explicitly set eval_metric if you'd like to restore the old behavior.\n"
          ]
        },
        {
          "data": {
            "text/plain": [
              "XGBClassifier(base_score=0.5, booster='gbtree', colsample_bylevel=1,\n",
              "              colsample_bynode=1, colsample_bytree=1, enable_categorical=False,\n",
              "              gamma=0, gpu_id=-1, importance_type=None,\n",
              "              interaction_constraints='', learning_rate=0.300000012,\n",
              "              max_delta_step=0, max_depth=6, min_child_weight=1, missing=nan,\n",
              "              monotone_constraints='()', n_estimators=100, n_jobs=16,\n",
              "              num_parallel_tree=1, predictor='auto', random_state=0,\n",
              "              reg_alpha=0, reg_lambda=1, scale_pos_weight=1, subsample=1,\n",
              "              tree_method='exact', use_label_encoder=False,\n",
              "              validate_parameters=1, verbosity=None)"
            ]
          },
          "execution_count": 22,
          "metadata": {},
          "output_type": "execute_result"
        }
      ],
      "source": [
        "from xgboost import XGBClassifier\n",
        "\n",
        "xgb_cl = XGBClassifier(use_label_encoder=False)\n",
        "xgb_cl.fit(X_train, y_train, sample_weight=w_array)"
      ]
    },
    {
      "cell_type": "markdown",
      "id": "f939359a-47a9-46e1-9ab7-439d5acfe385",
      "metadata": {
        "id": "f939359a-47a9-46e1-9ab7-439d5acfe385"
      },
      "source": [
        "# Evaluation"
      ]
    },
    {
      "cell_type": "markdown",
      "id": "ccf47016-39e4-4a6c-83d6-d038aaf0a429",
      "metadata": {
        "id": "ccf47016-39e4-4a6c-83d6-d038aaf0a429"
      },
      "source": [
        "## use predict function for all models above\n",
        "## Use recall_score from sklearn.metrics to compare y_test and prediction results"
      ]
    },
    {
      "cell_type": "code",
      "execution_count": null,
      "id": "ea24681b-5caf-4742-a128-0b00c35d85d6",
      "metadata": {
        "id": "ea24681b-5caf-4742-a128-0b00c35d85d6"
      },
      "outputs": [],
      "source": [
        "from sklearn import metrics"
      ]
    },
    {
      "cell_type": "code",
      "execution_count": null,
      "id": "a39115c6-a59a-49bb-9d8f-afd87e10f24b",
      "metadata": {
        "id": "a39115c6-a59a-49bb-9d8f-afd87e10f24b",
        "outputId": "ae7b0291-ca2c-4b5e-8a96-cb9168a5a91b"
      },
      "outputs": [
        {
          "data": {
            "text/plain": [
              "0.7270742358078602"
            ]
          },
          "execution_count": 24,
          "metadata": {},
          "output_type": "execute_result"
        }
      ],
      "source": [
        "metrics.recall_score(y_test, lr.predict(X_test))"
      ]
    },
    {
      "cell_type": "code",
      "execution_count": null,
      "id": "6ea2e348-8554-42ba-b239-044535735c57",
      "metadata": {
        "id": "6ea2e348-8554-42ba-b239-044535735c57",
        "outputId": "fa673055-91c3-419b-8206-589e7b231a0a"
      },
      "outputs": [
        {
          "data": {
            "text/plain": [
              "0.6943231441048034"
            ]
          },
          "execution_count": 25,
          "metadata": {},
          "output_type": "execute_result"
        }
      ],
      "source": [
        "metrics.recall_score(y_test, rf.predict(X_test))"
      ]
    },
    {
      "cell_type": "code",
      "execution_count": null,
      "id": "c0af3362-769c-4132-bda2-35628c3974b4",
      "metadata": {
        "id": "c0af3362-769c-4132-bda2-35628c3974b4",
        "outputId": "bd7cd2a5-6c8b-475d-d018-897824d76b9e"
      },
      "outputs": [
        {
          "data": {
            "text/plain": [
              "0.8362445414847162"
            ]
          },
          "execution_count": 26,
          "metadata": {},
          "output_type": "execute_result"
        }
      ],
      "source": [
        "metrics.recall_score(y_test, xgb_cl.predict(X_test))"
      ]
    },
    {
      "cell_type": "markdown",
      "id": "e7ecde54-f9d1-4511-afb4-e0ee39e3a368",
      "metadata": {
        "id": "e7ecde54-f9d1-4511-afb4-e0ee39e3a368"
      },
      "source": [
        "## Launch cells to show feature importance and confusion matrix for xgb classifier"
      ]
    },
    {
      "cell_type": "code",
      "execution_count": null,
      "id": "1d447feb-1e78-4cec-ab1c-0a9647bde466",
      "metadata": {
        "id": "1d447feb-1e78-4cec-ab1c-0a9647bde466",
        "outputId": "58144be7-7283-4a9b-e792-d9243de81bcc"
      },
      "outputs": [
        {
          "data": {
            "image/png": "[encoded data removed]",
            "text/plain": [
              "<Figure size 1152x576 with 1 Axes>"
            ]
          },
          "metadata": {
            "needs_background": "light"
          },
          "output_type": "display_data"
        }
      ],
      "source": [
        "import xgboost as xgb\n",
        "\n",
        "xgb_cl.get_booster().feature_names = list(X.columns.values)\n",
        "\n",
        "fig, ax = plt.subplots(figsize=(16,8))\n",
        "xgb.plot_importance(xgb_cl, ax=ax)\n",
        "\n",
        "plt.show()"
      ]
    },
    {
      "cell_type": "code",
      "execution_count": null,
      "id": "78eb42c6-18c2-42c3-8aa1-dc9a2b08b093",
      "metadata": {
        "id": "78eb42c6-18c2-42c3-8aa1-dc9a2b08b093",
        "outputId": "4aac3ffe-6dab-409f-dade-96465e90d594"
      },
      "outputs": [
        {
          "data": {
            "text/plain": [
              "<AxesSubplot:>"
            ]
          },
          "execution_count": 28,
          "metadata": {},
          "output_type": "execute_result"
        },
        {
          "data": {
            "image/png": "[encoded data removed]",
            "text/plain": [
              "<Figure size 1152x576 with 2 Axes>"
            ]
          },
          "metadata": {
            "needs_background": "light"
          },
          "output_type": "display_data"
        }
      ],
      "source": [
        "from sklearn.metrics import confusion_matrix  \n",
        "import seaborn as sns\n",
        "\n",
        "plt.figure(figsize=(16,8))\n",
        "sns.heatmap(confusion_matrix(y_test, xgb_cl.predict(X_test)), annot=True, fmt='5')"
      ]
    },
    {
      "cell_type": "markdown",
      "id": "a3281059-90ce-450a-a6c7-3025ab4ce37e",
      "metadata": {
        "id": "a3281059-90ce-450a-a6c7-3025ab4ce37e"
      },
      "source": [
        "# Deployment"
      ]
    },
    {
      "cell_type": "markdown",
      "id": "afd04a6d-33bc-4651-88bb-57b7f5ee78a7",
      "metadata": {
        "id": "afd04a6d-33bc-4651-88bb-57b7f5ee78a7"
      },
      "source": [
        "## Use pickle to dump model object\n",
        "## dump scaler object, use '.sav' extension"
      ]
    },
    {
      "cell_type": "code",
      "execution_count": null,
      "id": "cab0f5c7-641b-424a-b54b-b9c21bb42b66",
      "metadata": {
        "id": "cab0f5c7-641b-424a-b54b-b9c21bb42b66"
      },
      "outputs": [],
      "source": [
        "import pickle\n",
        "\n",
        "pickle.dump(xgb_cl, open('model.pkl', 'wb'))\n",
        "pickle.dump(scaler, open('scaler.sav', 'wb'))"
      ]
    },
    {
      "cell_type": "markdown",
      "id": "244b8ec7-bdf0-4131-9e34-66cbb7b97f89",
      "metadata": {
        "id": "244b8ec7-bdf0-4131-9e34-66cbb7b97f89"
      },
      "source": [
        "##  Deployment (optional, requires installation in local environment)"
      ]
    },
    {
      "cell_type": "code",
      "execution_count": null,
      "id": "7af1133d-abb0-4fe5-ab48-baaa7cf4d981",
      "metadata": {
        "tags": [],
        "id": "7af1133d-abb0-4fe5-ab48-baaa7cf4d981"
      },
      "outputs": [],
      "source": [
        "from werkzeug.wrappers import Request, Response\n",
        "from werkzeug import run_simple\n",
        "from flask import Flask, request, render_template\n",
        "\n",
        "\n",
        "app = Flask(__name__, template_folder='')\n",
        "\n",
        "model = pickle.load(open('model.pkl', 'rb'))\n",
        "\n",
        "# scale values for prediction to the same distribution\n",
        "scaler = pickle.load(open('scaler.sav', 'rb'))\n",
        "\n",
        "@app.route('/')\n",
        "def home():\n",
        "    return render_template('index.html')\n",
        "\n",
        "@app.route('/', methods=['POST'])\n",
        "def predict():\n",
        "    temp = [i for i in request.form.values()]\n",
        "    \n",
        "    # Process values from request in order to transform to required for model shape\n",
        "    row_dict = {column: np.array([], dtype=df1.dtypes.values[i]) for i, column in enumerate(df1.columns.values[:-1])}\n",
        "    for i, column in enumerate(row_dict.keys()):\n",
        "        row_dict[column] = np.append(row_dict[column], temp[i]).astype(df1.dtypes.values[i])\n",
        "\n",
        "    # Create rows from unique values of initial data\n",
        "    # The easiest way to produce the same values with pd.get_dummies for only one row data from request\n",
        "    unique_dict = {}\n",
        "    mask = df1.iloc[:, np.argwhere(((df1.dtypes != np.int64) & (df1.dtypes != np.float64)).values).reshape(-1)]\n",
        " \n",
        "    for column in df1.columns.values[:-1]:\n",
        "        unique_dict[column] = 0\n",
        "\n",
        "    for column in mask.columns:\n",
        "        unique_dict[column] = mask[column].unique()\n",
        "\n",
        "    for i in range(mask.nunique().max()):\n",
        "        for column in mask.columns:\n",
        "            if len(unique_dict[column]) < mask.nunique().max():\n",
        "                unique_dict[column] = np.append(unique_dict[column], unique_dict[column][0])\n",
        "\n",
        "    unique_dict['SeniorCitizen'] = [0, 1, 0, 0]\n",
        "\n",
        "    unique_df = pd.DataFrame.from_dict(unique_dict)\n",
        "    unique_df1 = pd.concat([unique_df, pd.DataFrame.from_dict(row_dict)])\n",
        "    \n",
        "    # assert unique values match\n",
        "    # theoretically it can fail in case it receives another categorical variables (from request combobox)\n",
        "    assert np.all(np.hstack(np.array([unique_df[i].unique() for i in unique_df.loc[:, ~unique_df.columns.isin(['tenure', 'MonthlyCharges', 'TotalCharges'])].columns], dtype=object)) == \n",
        "                  np.hstack(np.array([unique_df1[i].unique() for i in unique_df1.loc[:, ~unique_df1.columns.isin(['tenure', 'MonthlyCharges', 'TotalCharges'])].columns], dtype=object)))\n",
        "    \n",
        "    df_dummies = pd.get_dummies(unique_df1)\n",
        "    X = scaler.transform(df_dummies)\n",
        "    return render_template('index.html', prediction_text = 'Churn detected' if model.predict(X[-1].reshape(1, -1))[0] else 'No churn expected')   \n",
        "\n",
        "if __name__ == \"__main__\":\n",
        "    run_simple('localhost', 9000, app)"
      ]
    }
  ],
  "metadata": {
    "kernelspec": {
      "display_name": "Python 3 (ipykernel)",
      "language": "python",
      "name": "python3"
    },
    "language_info": {
      "codemirror_mode": {
        "name": "ipython",
        "version": 3
      },
      "file_extension": ".py",
      "mimetype": "text/x-python",
      "name": "python",
      "nbconvert_exporter": "python",
      "pygments_lexer": "ipython3",
      "version": "3.9.7"
    },
    "colab": {
      "name": "ISQBD with answers.ipynb",
      "provenance": [],
      "include_colab_link": true
    }
  },
  "nbformat": 4,
  "nbformat_minor": 5
}